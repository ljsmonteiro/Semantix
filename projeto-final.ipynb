{
 "cells": [
  {
   "cell_type": "code",
   "execution_count": null,
   "metadata": {},
   "outputs": [],
   "source": [
    "from pyspark.sql.functions import *\n",
    "from pyspark.sql.types import *\n",
    "from kafka import KafkaProducer\n",
    "from pyspark.streaming.kafka import KafkaUtils"
   ]
  },
  {
   "cell_type": "code",
   "execution_count": null,
   "metadata": {},
   "outputs": [],
   "source": [
    "dados = spark.read.csv(\"/user/lucio/covid_dados/\", sep=\";\", header=\"true\")\n"
   ]
  },
  {
   "cell_type": "code",
   "execution_count": null,
   "metadata": {},
   "outputs": [],
   "source": [
    "dados.printSchema()"
   ]
  },
  {
   "cell_type": "code",
   "execution_count": null,
   "metadata": {},
   "outputs": [],
   "source": [
    "dados.show(5)"
   ]
  },
  {
   "cell_type": "code",
   "execution_count": null,
   "metadata": {},
   "outputs": [],
   "source": [
    "df1 = dados.select(dados.Recuperadosnovos.alias(\"CasosRecuperados\").cast(\"int\"),\n",
    "                  dados.emAcompanhamentoNovos.alias(\"EmAcompanhamento\").cast(\"int\"))\\\n",
    "            .filter(col(\"data\")==\"2021-07-06\")\\\n",
    "            .filter(col(\"regiao\")==\"Brasil\")"
   ]
  },
  {
   "cell_type": "code",
   "execution_count": null,
   "metadata": {
    "scrolled": true
   },
   "outputs": [],
   "source": [
    "df1.show()"
   ]
  },
  {
   "cell_type": "code",
   "execution_count": null,
   "metadata": {},
   "outputs": [],
   "source": [
    "df1.write.mode(\"overwrite\").saveAsTable(\"covid19.Visualizacao1\")"
   ]
  },
  {
   "cell_type": "code",
   "execution_count": null,
   "metadata": {},
   "outputs": [],
   "source": [
    "spark.catalog.listDatabases()"
   ]
  },
  {
   "cell_type": "code",
   "execution_count": null,
   "metadata": {},
   "outputs": [],
   "source": [
    "spark.catalog.listTables(dbName=\"covid19\")"
   ]
  },
  {
   "cell_type": "code",
   "execution_count": null,
   "metadata": {},
   "outputs": [],
   "source": [
    "df2 = dados.select(dados.casosAcumulado.alias(\"CasosConfirmados:Acumulado\").cast(\"int\"),\n",
    "                  dados.casosNovos.alias(\"CasosNovos\").cast(\"int\"),\n",
    "                  dados.populacaoTCU2019.alias(\"PopulaçãoTCU2019\").cast(\"int\"))\\\n",
    "            .filter(col(\"data\")==\"2021-07-06\")\\\n",
    "            .filter(col(\"regiao\")==\"Brasil\")"
   ]
  },
  {
   "cell_type": "code",
   "execution_count": null,
   "metadata": {},
   "outputs": [],
   "source": [
    "df2 = df2.withColumn(\"Incidência\", (col(\"CasosConfirmados:Acumulado\")/col(\"PopulaçãoTCU2019\"))*100000)"
   ]
  },
  {
   "cell_type": "code",
   "execution_count": null,
   "metadata": {},
   "outputs": [],
   "source": [
    "\n",
    "df2 = df2.drop('PopulaçãoTCU2019')"
   ]
  },
  {
   "cell_type": "code",
   "execution_count": null,
   "metadata": {
    "scrolled": false
   },
   "outputs": [],
   "source": [
    "df2.show()"
   ]
  },
  {
   "cell_type": "code",
   "execution_count": null,
   "metadata": {},
   "outputs": [],
   "source": [
    "df2.write.parquet(\"/user/hive/warehouse/covid19.db/Visualizacao2\", mode=\"overwrite\",compression=\"snappy\")"
   ]
  },
  {
   "cell_type": "code",
   "execution_count": null,
   "metadata": {},
   "outputs": [],
   "source": [
    "df3 = dados.select(dados.casosAcumulado.alias(\"CasosConfirmados:Acumulado\").cast(\"int\"),\n",
    "                  dados.obitosAcumulado.alias(\"Obitosacumulados\").cast(\"int\"),\n",
    "                  dados.obitosNovos.alias(\"CasosNovos\").cast(\"int\"),\n",
    "                  dados.populacaoTCU2019.alias(\"PopulaçãoTCU2019\").cast(\"int\"))\\\n",
    "            .filter(col(\"data\")==\"2021-07-06\")\\\n",
    "            .filter(col(\"regiao\")==\"Brasil\")"
   ]
  },
  {
   "cell_type": "code",
   "execution_count": null,
   "metadata": {},
   "outputs": [],
   "source": [
    "df3 = df3.withColumn(\"Letalidade\", (col(\"Obitosacumulados\")/col(\"CasosConfirmados:Acumulado\"))*100)"
   ]
  },
  {
   "cell_type": "code",
   "execution_count": null,
   "metadata": {},
   "outputs": [],
   "source": [
    "df3 = df3.withColumn(\"Mortalidade\", (col(\"Obitosacumulados\")/col(\"PopulaçãoTCU2019\"))*100000)"
   ]
  },
  {
   "cell_type": "code",
   "execution_count": null,
   "metadata": {},
   "outputs": [],
   "source": [
    "\n",
    "df3 = df3.drop('PopulaçãoTCU2019','CasosConfirmados:Acumulado')"
   ]
  },
  {
   "cell_type": "code",
   "execution_count": null,
   "metadata": {
    "scrolled": true
   },
   "outputs": [],
   "source": [
    "df3.show()"
   ]
  },
  {
   "cell_type": "code",
   "execution_count": null,
   "metadata": {},
   "outputs": [],
   "source": [
    "df3.printSchema()"
   ]
  },
  {
   "cell_type": "code",
   "execution_count": null,
   "metadata": {},
   "outputs": [],
   "source": [
    "df4 = df3.withColumn(\"Obitosacumulados\",col(\"Obitosacumulados\").cast(StringType()))\\\n",
    "      .withColumn(\"CasosNovos\",col(\"CasosNovos\").cast(StringType()))\\\n",
    "      .withColumn(\"Letalidade\",col(\"Letalidade\").cast(StringType()))\\\n",
    "      .withColumn(\"Mortalidade\",col(\"Mortalidade\").cast(StringType()))"
   ]
  },
  {
   "cell_type": "code",
   "execution_count": null,
   "metadata": {
    "scrolled": true
   },
   "outputs": [],
   "source": [
    "df4.printSchema()"
   ]
  },
  {
   "cell_type": "code",
   "execution_count": null,
   "metadata": {},
   "outputs": [],
   "source": [
    "df4.show()"
   ]
  },
  {
   "cell_type": "code",
   "execution_count": null,
   "metadata": {},
   "outputs": [],
   "source": [
    "topic_read = spark.read\\\n",
    "    .format(\"kafka\")\\\n",
    "    .option(\"kafka.bootstrap.servers\", \"kafka:9092\")\\\n",
    "    .option(\"subscribe\", \"covid19\")\\\n",
    "    .option(\"startingOffsets\",\"earliest\")\\\n",
    "    .load()"
   ]
  },
  {
   "cell_type": "code",
   "execution_count": null,
   "metadata": {},
   "outputs": [],
   "source": [
    "topic_string = topic_read.select(col(\"key\").cast(\"string\"), col(\"value\").cast(\"string\"))"
   ]
  },
  {
   "cell_type": "code",
   "execution_count": null,
   "metadata": {},
   "outputs": [],
   "source": [
    "topic_string.show()"
   ]
  },
  {
   "cell_type": "code",
   "execution_count": null,
   "metadata": {},
   "outputs": [],
   "source": [
    "producer = KafkaProducer(bootstrap_servers='kafka:9092')\n",
    "producer.send('covid19', key=b'001', value=b\"Novo Teste\")"
   ]
  },
  {
   "cell_type": "code",
   "execution_count": null,
   "metadata": {},
   "outputs": [],
   "source": [
    "topic_string.show()"
   ]
  },
  {
   "cell_type": "code",
   "execution_count": null,
   "metadata": {},
   "outputs": [],
   "source": [
    "topic_string = topic_read.select(col(\"key\").cast(\"string\"), col(\"value\").cast(\"string\"))"
   ]
  },
  {
   "cell_type": "code",
   "execution_count": null,
   "metadata": {
    "scrolled": true
   },
   "outputs": [],
   "source": [
    "topic_string.show()\n"
   ]
  },
  {
   "cell_type": "code",
   "execution_count": null,
   "metadata": {},
   "outputs": [],
   "source": [
    "visao3 = [('ObitosConfirmados', df4.collect()[0][0]), (\"NovosObitosConfirmados\",df4.collect()[0][1]), (\"Letalidade\",df4.collect()[0][2]), (\"Mortalidade\",df4.collect()[0][3])]"
   ]
  },
  {
   "cell_type": "code",
   "execution_count": null,
   "metadata": {},
   "outputs": [],
   "source": [
    "producer.send('covid19', key=b'300', value= visao3[0][0].encode())\n",
    "producer.send('covid19', key=b'301', value= visao3[0][1].encode())\n",
    "producer.send('covid19', key=b'302', value= visao3[1][0].encode())\n",
    "producer.send('covid19', key=b'303', value= visao3[1][1].encode())\n",
    "producer.send('covid19', key=b'304', value= visao3[2][0].encode())\n",
    "producer.send('covid19', key=b'305', value= visao3[2][1].encode())\n",
    "producer.send('covid19', key=b'306', value= visao3[3][0].encode())\n",
    "producer.send('covid19', key=b'307', value= visao3[3][1].encode())\n",
    "\n"
   ]
  },
  {
   "cell_type": "code",
   "execution_count": null,
   "metadata": {
    "scrolled": true
   },
   "outputs": [],
   "source": [
    "topic_string.show()"
   ]
  },
  {
   "cell_type": "code",
   "execution_count": null,
   "metadata": {},
   "outputs": [],
   "source": [
    "spark.sql(\"CREATE DATABASE dadoscovidspark\")\n"
   ]
  },
  {
   "cell_type": "code",
   "execution_count": null,
   "metadata": {},
   "outputs": [],
   "source": [
    "spark.sql(\"USE dadoscovidspark\")"
   ]
  },
  {
   "cell_type": "code",
   "execution_count": null,
   "metadata": {},
   "outputs": [],
   "source": [
    "# Criar a tabela\n",
    "spark.sql(\"CREATE TABLE dadoscovidspark (regiao STRING, estado STRING, municipio STRING, coduf INT, codmun INT,codRegiaoSaude INT, nomeRegiaoSaude STRING, data DATE, semanaEpi STRING,populacaoTCU2019 INT, casoAcumulado INT, casosNovos INT, obitosAcumulado INT, obitosNovos INT, Recuperadosnovos INT,emAcompanhamentoNovos INT, interior_metropolitana STRING)\")"
   ]
  },
  {
   "cell_type": "code",
   "execution_count": null,
   "metadata": {},
   "outputs": [],
   "source": [
    "spark.catalog.listDatabases()"
   ]
  },
  {
   "cell_type": "code",
   "execution_count": null,
   "metadata": {},
   "outputs": [],
   "source": [
    "spark.catalog.listTables()"
   ]
  },
  {
   "cell_type": "code",
   "execution_count": null,
   "metadata": {},
   "outputs": [],
   "source": [
    "spark.catalog.listColumns(\"dadoscovidspark\")"
   ]
  },
  {
   "cell_type": "code",
   "execution_count": null,
   "metadata": {},
   "outputs": [],
   "source": [
    "esquema = \"regiao STRING, estado STRING, municipio STRING, coduf INT, codmun INT,codRegiaoSaude INT, nomeRegiaoSaude STRING, data DATE, semanaEpi STRING,populacaoTCU2019 INT, casoAcumulado INT, casosNovos INT, obitosAcumulado INT, obitosNovos INT, Recuperadosnovos INT,emAcompanhamentoNovos INT, interior_metropolitana STRING\""
   ]
  },
  {
   "cell_type": "code",
   "execution_count": null,
   "metadata": {},
   "outputs": [],
   "source": [
    "dados_cov = spark.read.csv(\"/user/lucio/covid_dados\", sep=\";\", schema=esquema, header=\"false\")"
   ]
  },
  {
   "cell_type": "code",
   "execution_count": null,
   "metadata": {},
   "outputs": [],
   "source": [
    "dados_cov.show(10)"
   ]
  },
  {
   "cell_type": "code",
   "execution_count": null,
   "metadata": {},
   "outputs": [],
   "source": [
    "dados_cov.write.saveAsTable(\"dadoscovidspark_tb\", mode=\"overwrite\")"
   ]
  },
  {
   "cell_type": "code",
   "execution_count": null,
   "metadata": {},
   "outputs": [],
   "source": [
    "dados_cov_spark = spark.sql(\"SELECT regiao,casoAcumulado, obitosAcumulado, data FROM dadoscovidspark_tb WHERE data ='2021-07-06' ORDER BY casoAcumulado ASC\")"
   ]
  },
  {
   "cell_type": "code",
   "execution_count": null,
   "metadata": {},
   "outputs": [],
   "source": [
    "dados_cov_spark.groupBy('regiao').max().show()"
   ]
  },
  {
   "cell_type": "code",
   "execution_count": null,
   "metadata": {},
   "outputs": [],
   "source": []
  }
 ],
 "metadata": {
  "kernelspec": {
   "display_name": "PySpark",
   "language": "python",
   "name": "pyspark"
  },
  "language_info": {
   "codemirror_mode": {
    "name": "ipython",
    "version": 3
   },
   "file_extension": ".py",
   "mimetype": "text/x-python",
   "name": "python",
   "nbconvert_exporter": "python",
   "pygments_lexer": "ipython3",
   "version": "3.6.10"
  }
 },
 "nbformat": 4,
 "nbformat_minor": 2
}
